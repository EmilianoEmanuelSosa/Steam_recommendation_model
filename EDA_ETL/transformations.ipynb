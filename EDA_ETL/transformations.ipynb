{
 "cells": [
  {
   "attachments": {},
   "cell_type": "markdown",
   "metadata": {},
   "source": [
    "# Transformations\n",
    "\n",
    "---\n"
   ]
  },
  {
   "attachments": {},
   "cell_type": "markdown",
   "metadata": {},
   "source": [
    "##### 1. I import the libraries to use:\n"
   ]
  },
  {
   "cell_type": "code",
   "execution_count": 44,
   "metadata": {},
   "outputs": [],
   "source": [
    "import pandas as pd\n",
    "import numpy as np\n",
    "import json\n",
    "import ast\n",
    "import numpy\n",
    "from utils import get_mode_list"
   ]
  },
  {
   "attachments": {},
   "cell_type": "markdown",
   "metadata": {},
   "source": [
    "#### I import the data sets\n"
   ]
  },
  {
   "cell_type": "code",
   "execution_count": 45,
   "metadata": {},
   "outputs": [],
   "source": [
    "dictionary=pd.read_excel('/home/mkm/programin/Steam_recommendation_model/Datasets/Data_Ingested/Diccionario de Datos STEAM.xlsx')\n",
    "\n",
    "# Json Proporcionado por nuestros contratadores\n",
    "\n",
    "# Ruta al archivo JSON\n",
    "json_file_path = '/home/mkm/programin/Steam_recommendation_model/Datasets/Data_Ingested/steam_games.json'\n",
    "\n",
    "rows=[]\n",
    "# Abro el archivo JSON y carga el contenido en una estructura de datos de Python\n",
    "with open(json_file_path, 'r', encoding='utf-8') as file:\n",
    "    for line in file.readlines():\n",
    "        rows.append(ast.literal_eval(line))\n",
    "df_steam= pd.DataFrame(rows)"
   ]
  },
  {
   "cell_type": "code",
   "execution_count": 46,
   "metadata": {},
   "outputs": [
    {
     "data": {
      "text/plain": [
       "early_access\n",
       "False    0.939412\n",
       "True     0.060588\n",
       "Name: proportion, dtype: float64"
      ]
     },
     "execution_count": 46,
     "metadata": {},
     "output_type": "execute_result"
    }
   ],
   "source": [
    "df_steam['early_access'].value_counts('True')"
   ]
  },
  {
   "attachments": {},
   "cell_type": "markdown",
   "metadata": {},
   "source": [
    "#### Dictionary of dataset\n"
   ]
  },
  {
   "cell_type": "code",
   "execution_count": 47,
   "metadata": {},
   "outputs": [
    {
     "data": {
      "text/html": [
       "<div>\n",
       "<style scoped>\n",
       "    .dataframe tbody tr th:only-of-type {\n",
       "        vertical-align: middle;\n",
       "    }\n",
       "\n",
       "    .dataframe tbody tr th {\n",
       "        vertical-align: top;\n",
       "    }\n",
       "\n",
       "    .dataframe thead th {\n",
       "        text-align: right;\n",
       "    }\n",
       "</style>\n",
       "<table border=\"1\" class=\"dataframe\">\n",
       "  <thead>\n",
       "    <tr style=\"text-align: right;\">\n",
       "      <th></th>\n",
       "      <th>Columna</th>\n",
       "      <th>Descripción</th>\n",
       "      <th>Ejemplo</th>\n",
       "    </tr>\n",
       "  </thead>\n",
       "  <tbody>\n",
       "    <tr>\n",
       "      <th>0</th>\n",
       "      <td>publisher</td>\n",
       "      <td>Empresa publicadora del contenido</td>\n",
       "      <td>[Ubisoft,Dovetail Games - Trains,Degica]</td>\n",
       "    </tr>\n",
       "    <tr>\n",
       "      <th>1</th>\n",
       "      <td>genres</td>\n",
       "      <td>Genero del contenido</td>\n",
       "      <td>[Action, Adventure, Racing, Simulation, Strategy]</td>\n",
       "    </tr>\n",
       "    <tr>\n",
       "      <th>2</th>\n",
       "      <td>app_name</td>\n",
       "      <td>Nombre del contenido</td>\n",
       "      <td>[Warzone, Soundtrack, Puzzle Blocks]</td>\n",
       "    </tr>\n",
       "    <tr>\n",
       "      <th>3</th>\n",
       "      <td>title</td>\n",
       "      <td>Titulo del contenido</td>\n",
       "      <td>[The Dream Machine: Chapter 4 , Fate/EXTELLA -...</td>\n",
       "    </tr>\n",
       "    <tr>\n",
       "      <th>4</th>\n",
       "      <td>url</td>\n",
       "      <td>URL de publicación del contenido</td>\n",
       "      <td>http://store.steampowered.com/app/761140/Lost_...</td>\n",
       "    </tr>\n",
       "    <tr>\n",
       "      <th>5</th>\n",
       "      <td>release_date</td>\n",
       "      <td>Fecha de lanzamiento</td>\n",
       "      <td>[2018-01-04]</td>\n",
       "    </tr>\n",
       "    <tr>\n",
       "      <th>6</th>\n",
       "      <td>tags</td>\n",
       "      <td>etiquetas de contenido</td>\n",
       "      <td>[Simulation, Indie, Action, Adventure, Funny, ...</td>\n",
       "    </tr>\n",
       "    <tr>\n",
       "      <th>7</th>\n",
       "      <td>discount_price</td>\n",
       "      <td>precio de descuento</td>\n",
       "      <td>[22.66, 0.49, 0.69]</td>\n",
       "    </tr>\n",
       "    <tr>\n",
       "      <th>8</th>\n",
       "      <td>reviews_url</td>\n",
       "      <td>Reviews de contenido</td>\n",
       "      <td>http://steamcommunity.com/app/681550/reviews/?...</td>\n",
       "    </tr>\n",
       "    <tr>\n",
       "      <th>9</th>\n",
       "      <td>specs</td>\n",
       "      <td>Especificaciones</td>\n",
       "      <td>[Multi-player, Co-op, Cross-Platform Multiplay...</td>\n",
       "    </tr>\n",
       "    <tr>\n",
       "      <th>10</th>\n",
       "      <td>price</td>\n",
       "      <td>Precio del contenido</td>\n",
       "      <td>[4.99, 9.99, Free to Use, Free to Play]</td>\n",
       "    </tr>\n",
       "    <tr>\n",
       "      <th>11</th>\n",
       "      <td>early_access</td>\n",
       "      <td>acceso temprano</td>\n",
       "      <td>[False, True]</td>\n",
       "    </tr>\n",
       "    <tr>\n",
       "      <th>12</th>\n",
       "      <td>id</td>\n",
       "      <td>identificador unico de contenido</td>\n",
       "      <td>[761140, 643980, 670290]</td>\n",
       "    </tr>\n",
       "    <tr>\n",
       "      <th>13</th>\n",
       "      <td>developer</td>\n",
       "      <td>Desarrollador</td>\n",
       "      <td>[Kotoshiro, Secret Level SRL, Poolians.com]</td>\n",
       "    </tr>\n",
       "    <tr>\n",
       "      <th>14</th>\n",
       "      <td>sentiment</td>\n",
       "      <td>Análisis de sentimiento</td>\n",
       "      <td>[Mixed, Very Positive, Positive, 3 user reviews]</td>\n",
       "    </tr>\n",
       "    <tr>\n",
       "      <th>15</th>\n",
       "      <td>metascore</td>\n",
       "      <td>Score por metacritic</td>\n",
       "      <td>[80, 74, 77, 75]</td>\n",
       "    </tr>\n",
       "  </tbody>\n",
       "</table>\n",
       "</div>"
      ],
      "text/plain": [
       "           Columna                        Descripción  \\\n",
       "0        publisher  Empresa publicadora del contenido   \n",
       "1           genres               Genero del contenido   \n",
       "2         app_name               Nombre del contenido   \n",
       "3            title               Titulo del contenido   \n",
       "4              url   URL de publicación del contenido   \n",
       "5     release_date               Fecha de lanzamiento   \n",
       "6             tags             etiquetas de contenido   \n",
       "7   discount_price                precio de descuento   \n",
       "8      reviews_url               Reviews de contenido   \n",
       "9            specs                   Especificaciones   \n",
       "10           price               Precio del contenido   \n",
       "11    early_access                    acceso temprano   \n",
       "12              id   identificador unico de contenido   \n",
       "13       developer                      Desarrollador   \n",
       "14       sentiment            Análisis de sentimiento   \n",
       "15       metascore               Score por metacritic   \n",
       "\n",
       "                                              Ejemplo  \n",
       "0            [Ubisoft,Dovetail Games - Trains,Degica]  \n",
       "1   [Action, Adventure, Racing, Simulation, Strategy]  \n",
       "2                [Warzone, Soundtrack, Puzzle Blocks]  \n",
       "3   [The Dream Machine: Chapter 4 , Fate/EXTELLA -...  \n",
       "4   http://store.steampowered.com/app/761140/Lost_...  \n",
       "5                                        [2018-01-04]  \n",
       "6   [Simulation, Indie, Action, Adventure, Funny, ...  \n",
       "7                                 [22.66, 0.49, 0.69]  \n",
       "8   http://steamcommunity.com/app/681550/reviews/?...  \n",
       "9   [Multi-player, Co-op, Cross-Platform Multiplay...  \n",
       "10            [4.99, 9.99, Free to Use, Free to Play]  \n",
       "11                                      [False, True]  \n",
       "12                           [761140, 643980, 670290]  \n",
       "13        [Kotoshiro, Secret Level SRL, Poolians.com]  \n",
       "14   [Mixed, Very Positive, Positive, 3 user reviews]  \n",
       "15                                   [80, 74, 77, 75]  "
      ]
     },
     "execution_count": 47,
     "metadata": {},
     "output_type": "execute_result"
    }
   ],
   "source": [
    "dictionary"
   ]
  },
  {
   "cell_type": "code",
   "execution_count": 48,
   "metadata": {},
   "outputs": [
    {
     "data": {
      "text/html": [
       "<div>\n",
       "<style scoped>\n",
       "    .dataframe tbody tr th:only-of-type {\n",
       "        vertical-align: middle;\n",
       "    }\n",
       "\n",
       "    .dataframe tbody tr th {\n",
       "        vertical-align: top;\n",
       "    }\n",
       "\n",
       "    .dataframe thead th {\n",
       "        text-align: right;\n",
       "    }\n",
       "</style>\n",
       "<table border=\"1\" class=\"dataframe\">\n",
       "  <thead>\n",
       "    <tr style=\"text-align: right;\">\n",
       "      <th></th>\n",
       "      <th>publisher</th>\n",
       "      <th>genres</th>\n",
       "      <th>app_name</th>\n",
       "      <th>title</th>\n",
       "      <th>url</th>\n",
       "      <th>release_date</th>\n",
       "      <th>tags</th>\n",
       "      <th>discount_price</th>\n",
       "      <th>reviews_url</th>\n",
       "      <th>specs</th>\n",
       "      <th>price</th>\n",
       "      <th>early_access</th>\n",
       "      <th>id</th>\n",
       "      <th>developer</th>\n",
       "      <th>sentiment</th>\n",
       "      <th>metascore</th>\n",
       "    </tr>\n",
       "  </thead>\n",
       "  <tbody>\n",
       "    <tr>\n",
       "      <th>0</th>\n",
       "      <td>Kotoshiro</td>\n",
       "      <td>[Action, Casual, Indie, Simulation, Strategy]</td>\n",
       "      <td>Lost Summoner Kitty</td>\n",
       "      <td>Lost Summoner Kitty</td>\n",
       "      <td>http://store.steampowered.com/app/761140/Lost_...</td>\n",
       "      <td>2018-01-04</td>\n",
       "      <td>[Strategy, Action, Indie, Casual, Simulation]</td>\n",
       "      <td>4.49</td>\n",
       "      <td>http://steamcommunity.com/app/761140/reviews/?...</td>\n",
       "      <td>[Single-player]</td>\n",
       "      <td>4.99</td>\n",
       "      <td>False</td>\n",
       "      <td>761140</td>\n",
       "      <td>Kotoshiro</td>\n",
       "      <td>NaN</td>\n",
       "      <td>NaN</td>\n",
       "    </tr>\n",
       "    <tr>\n",
       "      <th>1</th>\n",
       "      <td>Making Fun, Inc.</td>\n",
       "      <td>[Free to Play, Indie, RPG, Strategy]</td>\n",
       "      <td>Ironbound</td>\n",
       "      <td>Ironbound</td>\n",
       "      <td>http://store.steampowered.com/app/643980/Ironb...</td>\n",
       "      <td>2018-01-04</td>\n",
       "      <td>[Free to Play, Strategy, Indie, RPG, Card Game...</td>\n",
       "      <td>NaN</td>\n",
       "      <td>http://steamcommunity.com/app/643980/reviews/?...</td>\n",
       "      <td>[Single-player, Multi-player, Online Multi-Pla...</td>\n",
       "      <td>Free To Play</td>\n",
       "      <td>False</td>\n",
       "      <td>643980</td>\n",
       "      <td>Secret Level SRL</td>\n",
       "      <td>Mostly Positive</td>\n",
       "      <td>NaN</td>\n",
       "    </tr>\n",
       "    <tr>\n",
       "      <th>2</th>\n",
       "      <td>Poolians.com</td>\n",
       "      <td>[Casual, Free to Play, Indie, Simulation, Sports]</td>\n",
       "      <td>Real Pool 3D - Poolians</td>\n",
       "      <td>Real Pool 3D - Poolians</td>\n",
       "      <td>http://store.steampowered.com/app/670290/Real_...</td>\n",
       "      <td>2017-07-24</td>\n",
       "      <td>[Free to Play, Simulation, Sports, Casual, Ind...</td>\n",
       "      <td>NaN</td>\n",
       "      <td>http://steamcommunity.com/app/670290/reviews/?...</td>\n",
       "      <td>[Single-player, Multi-player, Online Multi-Pla...</td>\n",
       "      <td>Free to Play</td>\n",
       "      <td>False</td>\n",
       "      <td>670290</td>\n",
       "      <td>Poolians.com</td>\n",
       "      <td>Mostly Positive</td>\n",
       "      <td>NaN</td>\n",
       "    </tr>\n",
       "    <tr>\n",
       "      <th>3</th>\n",
       "      <td>彼岸领域</td>\n",
       "      <td>[Action, Adventure, Casual]</td>\n",
       "      <td>弹炸人2222</td>\n",
       "      <td>弹炸人2222</td>\n",
       "      <td>http://store.steampowered.com/app/767400/2222/</td>\n",
       "      <td>2017-12-07</td>\n",
       "      <td>[Action, Adventure, Casual]</td>\n",
       "      <td>0.83</td>\n",
       "      <td>http://steamcommunity.com/app/767400/reviews/?...</td>\n",
       "      <td>[Single-player]</td>\n",
       "      <td>0.99</td>\n",
       "      <td>False</td>\n",
       "      <td>767400</td>\n",
       "      <td>彼岸领域</td>\n",
       "      <td>NaN</td>\n",
       "      <td>NaN</td>\n",
       "    </tr>\n",
       "    <tr>\n",
       "      <th>4</th>\n",
       "      <td>NaN</td>\n",
       "      <td>NaN</td>\n",
       "      <td>Log Challenge</td>\n",
       "      <td>NaN</td>\n",
       "      <td>http://store.steampowered.com/app/773570/Log_C...</td>\n",
       "      <td>NaN</td>\n",
       "      <td>[Action, Indie, Casual, Sports]</td>\n",
       "      <td>1.79</td>\n",
       "      <td>http://steamcommunity.com/app/773570/reviews/?...</td>\n",
       "      <td>[Single-player, Full controller support, HTC V...</td>\n",
       "      <td>2.99</td>\n",
       "      <td>False</td>\n",
       "      <td>773570</td>\n",
       "      <td>NaN</td>\n",
       "      <td>NaN</td>\n",
       "      <td>NaN</td>\n",
       "    </tr>\n",
       "    <tr>\n",
       "      <th>...</th>\n",
       "      <td>...</td>\n",
       "      <td>...</td>\n",
       "      <td>...</td>\n",
       "      <td>...</td>\n",
       "      <td>...</td>\n",
       "      <td>...</td>\n",
       "      <td>...</td>\n",
       "      <td>...</td>\n",
       "      <td>...</td>\n",
       "      <td>...</td>\n",
       "      <td>...</td>\n",
       "      <td>...</td>\n",
       "      <td>...</td>\n",
       "      <td>...</td>\n",
       "      <td>...</td>\n",
       "      <td>...</td>\n",
       "    </tr>\n",
       "    <tr>\n",
       "      <th>32130</th>\n",
       "      <td>Ghost_RUS Games</td>\n",
       "      <td>[Casual, Indie, Simulation, Strategy]</td>\n",
       "      <td>Colony On Mars</td>\n",
       "      <td>Colony On Mars</td>\n",
       "      <td>http://store.steampowered.com/app/773640/Colon...</td>\n",
       "      <td>2018-01-04</td>\n",
       "      <td>[Strategy, Indie, Casual, Simulation]</td>\n",
       "      <td>1.49</td>\n",
       "      <td>http://steamcommunity.com/app/773640/reviews/?...</td>\n",
       "      <td>[Single-player, Steam Achievements]</td>\n",
       "      <td>1.99</td>\n",
       "      <td>False</td>\n",
       "      <td>773640</td>\n",
       "      <td>Nikita \"Ghost_RUS\"</td>\n",
       "      <td>NaN</td>\n",
       "      <td>NaN</td>\n",
       "    </tr>\n",
       "    <tr>\n",
       "      <th>32131</th>\n",
       "      <td>Sacada</td>\n",
       "      <td>[Casual, Indie, Strategy]</td>\n",
       "      <td>LOGistICAL: South Africa</td>\n",
       "      <td>LOGistICAL: South Africa</td>\n",
       "      <td>http://store.steampowered.com/app/733530/LOGis...</td>\n",
       "      <td>2018-01-04</td>\n",
       "      <td>[Strategy, Indie, Casual]</td>\n",
       "      <td>4.24</td>\n",
       "      <td>http://steamcommunity.com/app/733530/reviews/?...</td>\n",
       "      <td>[Single-player, Steam Achievements, Steam Clou...</td>\n",
       "      <td>4.99</td>\n",
       "      <td>False</td>\n",
       "      <td>733530</td>\n",
       "      <td>Sacada</td>\n",
       "      <td>NaN</td>\n",
       "      <td>NaN</td>\n",
       "    </tr>\n",
       "    <tr>\n",
       "      <th>32132</th>\n",
       "      <td>Laush Studio</td>\n",
       "      <td>[Indie, Racing, Simulation]</td>\n",
       "      <td>Russian Roads</td>\n",
       "      <td>Russian Roads</td>\n",
       "      <td>http://store.steampowered.com/app/610660/Russi...</td>\n",
       "      <td>2018-01-04</td>\n",
       "      <td>[Indie, Simulation, Racing]</td>\n",
       "      <td>1.39</td>\n",
       "      <td>http://steamcommunity.com/app/610660/reviews/?...</td>\n",
       "      <td>[Single-player, Steam Achievements, Steam Trad...</td>\n",
       "      <td>1.99</td>\n",
       "      <td>False</td>\n",
       "      <td>610660</td>\n",
       "      <td>Laush Dmitriy Sergeevich</td>\n",
       "      <td>NaN</td>\n",
       "      <td>NaN</td>\n",
       "    </tr>\n",
       "    <tr>\n",
       "      <th>32133</th>\n",
       "      <td>SIXNAILS</td>\n",
       "      <td>[Casual, Indie]</td>\n",
       "      <td>EXIT 2 - Directions</td>\n",
       "      <td>EXIT 2 - Directions</td>\n",
       "      <td>http://store.steampowered.com/app/658870/EXIT_...</td>\n",
       "      <td>2017-09-02</td>\n",
       "      <td>[Indie, Casual, Puzzle, Singleplayer, Atmosphe...</td>\n",
       "      <td>NaN</td>\n",
       "      <td>http://steamcommunity.com/app/658870/reviews/?...</td>\n",
       "      <td>[Single-player, Steam Achievements, Steam Cloud]</td>\n",
       "      <td>4.99</td>\n",
       "      <td>False</td>\n",
       "      <td>658870</td>\n",
       "      <td>xropi,stev3ns</td>\n",
       "      <td>1 user reviews</td>\n",
       "      <td>NaN</td>\n",
       "    </tr>\n",
       "    <tr>\n",
       "      <th>32134</th>\n",
       "      <td>NaN</td>\n",
       "      <td>NaN</td>\n",
       "      <td>Maze Run VR</td>\n",
       "      <td>NaN</td>\n",
       "      <td>http://store.steampowered.com/app/681550/Maze_...</td>\n",
       "      <td>NaN</td>\n",
       "      <td>[Early Access, Adventure, Indie, Action, Simul...</td>\n",
       "      <td>NaN</td>\n",
       "      <td>http://steamcommunity.com/app/681550/reviews/?...</td>\n",
       "      <td>[Single-player, Stats, Steam Leaderboards, HTC...</td>\n",
       "      <td>4.99</td>\n",
       "      <td>True</td>\n",
       "      <td>681550</td>\n",
       "      <td>NaN</td>\n",
       "      <td>Positive</td>\n",
       "      <td>NaN</td>\n",
       "    </tr>\n",
       "  </tbody>\n",
       "</table>\n",
       "<p>32135 rows × 16 columns</p>\n",
       "</div>"
      ],
      "text/plain": [
       "              publisher                                             genres  \\\n",
       "0             Kotoshiro      [Action, Casual, Indie, Simulation, Strategy]   \n",
       "1      Making Fun, Inc.               [Free to Play, Indie, RPG, Strategy]   \n",
       "2          Poolians.com  [Casual, Free to Play, Indie, Simulation, Sports]   \n",
       "3                  彼岸领域                        [Action, Adventure, Casual]   \n",
       "4                   NaN                                                NaN   \n",
       "...                 ...                                                ...   \n",
       "32130   Ghost_RUS Games              [Casual, Indie, Simulation, Strategy]   \n",
       "32131            Sacada                          [Casual, Indie, Strategy]   \n",
       "32132      Laush Studio                        [Indie, Racing, Simulation]   \n",
       "32133          SIXNAILS                                    [Casual, Indie]   \n",
       "32134               NaN                                                NaN   \n",
       "\n",
       "                       app_name                     title  \\\n",
       "0           Lost Summoner Kitty       Lost Summoner Kitty   \n",
       "1                     Ironbound                 Ironbound   \n",
       "2       Real Pool 3D - Poolians   Real Pool 3D - Poolians   \n",
       "3                       弹炸人2222                   弹炸人2222   \n",
       "4                 Log Challenge                       NaN   \n",
       "...                         ...                       ...   \n",
       "32130            Colony On Mars            Colony On Mars   \n",
       "32131  LOGistICAL: South Africa  LOGistICAL: South Africa   \n",
       "32132             Russian Roads             Russian Roads   \n",
       "32133       EXIT 2 - Directions       EXIT 2 - Directions   \n",
       "32134               Maze Run VR                       NaN   \n",
       "\n",
       "                                                     url release_date  \\\n",
       "0      http://store.steampowered.com/app/761140/Lost_...   2018-01-04   \n",
       "1      http://store.steampowered.com/app/643980/Ironb...   2018-01-04   \n",
       "2      http://store.steampowered.com/app/670290/Real_...   2017-07-24   \n",
       "3         http://store.steampowered.com/app/767400/2222/   2017-12-07   \n",
       "4      http://store.steampowered.com/app/773570/Log_C...          NaN   \n",
       "...                                                  ...          ...   \n",
       "32130  http://store.steampowered.com/app/773640/Colon...   2018-01-04   \n",
       "32131  http://store.steampowered.com/app/733530/LOGis...   2018-01-04   \n",
       "32132  http://store.steampowered.com/app/610660/Russi...   2018-01-04   \n",
       "32133  http://store.steampowered.com/app/658870/EXIT_...   2017-09-02   \n",
       "32134  http://store.steampowered.com/app/681550/Maze_...          NaN   \n",
       "\n",
       "                                                    tags  discount_price  \\\n",
       "0          [Strategy, Action, Indie, Casual, Simulation]            4.49   \n",
       "1      [Free to Play, Strategy, Indie, RPG, Card Game...             NaN   \n",
       "2      [Free to Play, Simulation, Sports, Casual, Ind...             NaN   \n",
       "3                            [Action, Adventure, Casual]            0.83   \n",
       "4                        [Action, Indie, Casual, Sports]            1.79   \n",
       "...                                                  ...             ...   \n",
       "32130              [Strategy, Indie, Casual, Simulation]            1.49   \n",
       "32131                          [Strategy, Indie, Casual]            4.24   \n",
       "32132                        [Indie, Simulation, Racing]            1.39   \n",
       "32133  [Indie, Casual, Puzzle, Singleplayer, Atmosphe...             NaN   \n",
       "32134  [Early Access, Adventure, Indie, Action, Simul...             NaN   \n",
       "\n",
       "                                             reviews_url  \\\n",
       "0      http://steamcommunity.com/app/761140/reviews/?...   \n",
       "1      http://steamcommunity.com/app/643980/reviews/?...   \n",
       "2      http://steamcommunity.com/app/670290/reviews/?...   \n",
       "3      http://steamcommunity.com/app/767400/reviews/?...   \n",
       "4      http://steamcommunity.com/app/773570/reviews/?...   \n",
       "...                                                  ...   \n",
       "32130  http://steamcommunity.com/app/773640/reviews/?...   \n",
       "32131  http://steamcommunity.com/app/733530/reviews/?...   \n",
       "32132  http://steamcommunity.com/app/610660/reviews/?...   \n",
       "32133  http://steamcommunity.com/app/658870/reviews/?...   \n",
       "32134  http://steamcommunity.com/app/681550/reviews/?...   \n",
       "\n",
       "                                                   specs         price  \\\n",
       "0                                        [Single-player]          4.99   \n",
       "1      [Single-player, Multi-player, Online Multi-Pla...  Free To Play   \n",
       "2      [Single-player, Multi-player, Online Multi-Pla...  Free to Play   \n",
       "3                                        [Single-player]          0.99   \n",
       "4      [Single-player, Full controller support, HTC V...          2.99   \n",
       "...                                                  ...           ...   \n",
       "32130                [Single-player, Steam Achievements]          1.99   \n",
       "32131  [Single-player, Steam Achievements, Steam Clou...          4.99   \n",
       "32132  [Single-player, Steam Achievements, Steam Trad...          1.99   \n",
       "32133   [Single-player, Steam Achievements, Steam Cloud]          4.99   \n",
       "32134  [Single-player, Stats, Steam Leaderboards, HTC...          4.99   \n",
       "\n",
       "       early_access      id                 developer        sentiment  \\\n",
       "0             False  761140                 Kotoshiro              NaN   \n",
       "1             False  643980          Secret Level SRL  Mostly Positive   \n",
       "2             False  670290              Poolians.com  Mostly Positive   \n",
       "3             False  767400                      彼岸领域              NaN   \n",
       "4             False  773570                       NaN              NaN   \n",
       "...             ...     ...                       ...              ...   \n",
       "32130         False  773640        Nikita \"Ghost_RUS\"              NaN   \n",
       "32131         False  733530                    Sacada              NaN   \n",
       "32132         False  610660  Laush Dmitriy Sergeevich              NaN   \n",
       "32133         False  658870             xropi,stev3ns   1 user reviews   \n",
       "32134          True  681550                       NaN         Positive   \n",
       "\n",
       "      metascore  \n",
       "0           NaN  \n",
       "1           NaN  \n",
       "2           NaN  \n",
       "3           NaN  \n",
       "4           NaN  \n",
       "...         ...  \n",
       "32130       NaN  \n",
       "32131       NaN  \n",
       "32132       NaN  \n",
       "32133       NaN  \n",
       "32134       NaN  \n",
       "\n",
       "[32135 rows x 16 columns]"
      ]
     },
     "execution_count": 48,
     "metadata": {},
     "output_type": "execute_result"
    }
   ],
   "source": [
    "df_steam"
   ]
  },
  {
   "attachments": {},
   "cell_type": "markdown",
   "metadata": {},
   "source": [
    "#### I analyze the percentage of records with null data by column\n"
   ]
  },
  {
   "cell_type": "code",
   "execution_count": 49,
   "metadata": {},
   "outputs": [
    {
     "name": "stdout",
     "output_type": "stream",
     "text": [
      "Column: publisher, percentage : 25.06%\n",
      "Column: genres, percentage : 10.22%\n",
      "Column: app_name, percentage : 0.01%\n",
      "Column: title, percentage : 6.38%\n",
      "Column: url, percentage : 0.00%\n",
      "Column: release_date, percentage : 6.43%\n",
      "Column: tags, percentage : 0.51%\n",
      "Column: discount_price, percentage : 99.30%\n",
      "Column: reviews_url, percentage : 0.01%\n",
      "Column: specs, percentage : 2.08%\n",
      "Column: price, percentage : 4.29%\n",
      "Column: early_access, percentage : 0.00%\n",
      "Column: id, percentage : 0.01%\n",
      "Column: developer, percentage : 10.27%\n",
      "Column: sentiment, percentage : 22.35%\n",
      "Column: metascore, percentage : 91.67%\n"
     ]
    }
   ],
   "source": [
    "# Calculate the total number of records in the respective dataset\n",
    "total_records = len(df_steam)\n",
    "\n",
    "# Step 2: Calculate the percentage of null values in each column using a loop\n",
    "for column in df_steam.columns:\n",
    "    null_count = df_steam[column].isna().sum()\n",
    "    null_percentage = (null_count / total_records) * 100\n",
    "    print(f\"Column: {column}, percentage : {null_percentage:.2f}%\")"
   ]
  },
  {
   "attachments": {},
   "cell_type": "markdown",
   "metadata": {},
   "source": [
    "#### Outliers and errors are standardized.\n"
   ]
  },
  {
   "cell_type": "code",
   "execution_count": 50,
   "metadata": {},
   "outputs": [],
   "source": [
    "df_steam=df_steam.replace('-',np.nan)\n",
    "df_steam.replace('彼岸领域', np.nan, inplace=True)"
   ]
  },
  {
   "attachments": {},
   "cell_type": "markdown",
   "metadata": {},
   "source": [
    "#### I will remove these columns:\n",
    "\n",
    "- **`\"Title\": `** It will be removed because app_name has fewer nulls and is exactly the same.\n",
    "- **`\"url\": `** It does not provide relevant information for our future model.\n",
    "- **`\"reviews_url\"`** It does not provide relevant information for our future model.\n",
    "  **``**\n"
   ]
  },
  {
   "cell_type": "code",
   "execution_count": 51,
   "metadata": {},
   "outputs": [],
   "source": [
    "df_steam.drop(columns=['title', 'url','reviews_url'], inplace=True)"
   ]
  },
  {
   "attachments": {},
   "cell_type": "markdown",
   "metadata": {},
   "source": [
    "#### I will impute for the **`neutral`** value on the null values of the sentiment column, as this will not change the distribution of the data significantly.\n"
   ]
  },
  {
   "cell_type": "code",
   "execution_count": 52,
   "metadata": {},
   "outputs": [],
   "source": [
    "df_steam['sentiment']=df_steam['sentiment'].fillna('Neutral')"
   ]
  },
  {
   "attachments": {},
   "cell_type": "markdown",
   "metadata": {},
   "source": [
    "#### I make the imputations for the mode to the columns where the percentage of nulls is less than 5%\n"
   ]
  },
  {
   "cell_type": "code",
   "execution_count": 53,
   "metadata": {},
   "outputs": [],
   "source": [
    "# Reemplazar los valores 'Free to Play' por '0' y los valores nulos por un valor predeterminado\n",
    "valor_predeterminado = -1  # Puedes elegir cualquier valor que desees para representar los nulos\n",
    "df_steam['price'].replace({'Free to Play': '0', pd.NA: valor_predeterminado}, inplace=True)\n",
    "# Convertir la columna 'price' a tipo numérico\n",
    "df_steam['price'] = pd.to_numeric(df_steam['price'], errors='coerce')\n",
    "# Calcular la moda de la columna 'price'\n",
    "mode = df_steam['price'].mode()[0]  # Obtener el primer valor de la moda\n",
    "# Imputar los valores nulos con la moda\n",
    "df_steam['price'].fillna(mode, inplace=True)\n",
    "\n",
    "\n",
    "\n",
    "# Convert lists to comma-separated strings in the 'tags' column\n",
    "df_steam['tags'] = df_steam['tags'].apply(lambda x: ', '.join(x) if isinstance(x, list) else x)\n",
    "# Calculate the mode of the 'tags' column\n",
    "mode_tags = df_steam['tags'].mode().iloc[0] # Get the first mode value as a scalar\n",
    "# impute null values with mode\n",
    "df_steam['tags'].fillna(mode_tags, inplace=True)\n",
    "\n",
    "\n",
    "\n",
    "\n",
    "# Convert lists to comma-separated strings in the 'specs' column\n",
    "df_steam['specs'] = df_steam['specs'].apply(lambda x: ', '.join(x) if isinstance(x, list) else x)\n",
    "# Calculate the mode of the 'specs' column\n",
    "mode_specs = df_steam['specs'].mode().iloc[0] # Get the first mode value as a scalar\n",
    "# impute null values with mode\n",
    "df_steam['specs'].fillna(mode_specs, inplace=True)\n",
    "# Now, if you want to convert the 'specs' column back from strings to lists, you can do the following:\n",
    "df_steam['specs'] = df_steam['specs'].apply(lambda x: x.split(', ') if isinstance(x, str) else x)\n",
    "\n",
    "\n",
    "\n",
    "\n",
    "# Calculate the mode of the 'release_date' column\n",
    "mode_release_date = df_steam['release_date'].mode().iloc[0] # Get the first mode value as a scalar\n",
    "# impute null values with mode\n",
    "df_steam['release_date'].fillna(mode_release_date, inplace=True)\n",
    "\n",
    "\n",
    "\n",
    "\n",
    "# Calculate the mode of the 'developer' column\n",
    "mode_developer = df_steam['developer'].mode().iloc[0] # Get the first mode value as a scalar\n",
    "# impute null values with mode\n",
    "df_steam['developer'].fillna(mode_developer, inplace=True)\n",
    "\n",
    "\n",
    "\n",
    "# Remove null values in the 'publisher' column and update the DataFrame\n",
    "df_steam.dropna(subset=['publisher'], inplace=True)"
   ]
  },
  {
   "attachments": {},
   "cell_type": "markdown",
   "metadata": {},
   "source": [
    "#### The 'Release Year' column will be transformed to datetime64 data type\n"
   ]
  },
  {
   "cell_type": "code",
   "execution_count": 54,
   "metadata": {},
   "outputs": [],
   "source": [
    "# Cast column 'release_date' to type datetime64 and handle errors with 'coerce'\n",
    "df_steam[\"release_date\"] = pd.to_datetime(df_steam[\"release_date\"], errors='coerce')\n",
    "# Extract the year from the 'release_date' column\n",
    "df_steam[\"year\"] = df_steam[\"release_date\"].dt.year"
   ]
  },
  {
   "attachments": {},
   "cell_type": "markdown",
   "metadata": {},
   "source": [
    "#### Columns with a Null percentage greater than 75% will be removed.\n"
   ]
  },
  {
   "cell_type": "code",
   "execution_count": 55,
   "metadata": {},
   "outputs": [
    {
     "name": "stderr",
     "output_type": "stream",
     "text": [
      "/tmp/ipykernel_7938/2992841344.py:4: SettingWithCopyWarning: \n",
      "A value is trying to be set on a copy of a slice from a DataFrame\n",
      "\n",
      "See the caveats in the documentation: https://pandas.pydata.org/pandas-docs/stable/user_guide/indexing.html#returning-a-view-versus-a-copy\n",
      "  df_metascore.dropna(inplace=True)\n"
     ]
    }
   ],
   "source": [
    "# I import the dataset at this point since I am going to impute the metascore column with advanced\n",
    "# machine learning techniques.\n",
    "df_steam.to_csv('../Datasets/Data_Processed/Model_Price_1.csv')\n",
    "# create a dataframe for a future API function\n",
    "df_metascore=df_steam[['metascore','year']]\n",
    "df_metascore.dropna(inplace=True)\n",
    "df_steam.drop(columns=['metascore', 'discount_price'], inplace=True)"
   ]
  },
  {
   "attachments": {},
   "cell_type": "markdown",
   "metadata": {},
   "source": [
    "#### I delete the missing null records.\n"
   ]
  },
  {
   "cell_type": "code",
   "execution_count": 56,
   "metadata": {},
   "outputs": [],
   "source": [
    "df_steam.dropna(inplace=True)"
   ]
  },
  {
   "attachments": {},
   "cell_type": "markdown",
   "metadata": {},
   "source": [
    "#### last revision\n"
   ]
  },
  {
   "cell_type": "code",
   "execution_count": 57,
   "metadata": {},
   "outputs": [
    {
     "name": "stdout",
     "output_type": "stream",
     "text": [
      "Column: publisher, percentage : 0.00%\n",
      "Column: genres, percentage : 0.00%\n",
      "Column: app_name, percentage : 0.00%\n",
      "Column: release_date, percentage : 0.00%\n",
      "Column: tags, percentage : 0.00%\n",
      "Column: specs, percentage : 0.00%\n",
      "Column: price, percentage : 0.00%\n",
      "Column: early_access, percentage : 0.00%\n",
      "Column: id, percentage : 0.00%\n",
      "Column: developer, percentage : 0.00%\n",
      "Column: sentiment, percentage : 0.00%\n",
      "Column: year, percentage : 0.00%\n"
     ]
    }
   ],
   "source": [
    "# Calculate the total number of records in the respective dataset\n",
    "total_records = len(df_steam)\n",
    "\n",
    "# Step 2: Calculate the percentage of null values in each column using a loop\n",
    "for column in df_steam.columns:\n",
    "    null_count = df_steam[column].isna().sum()\n",
    "    null_percentage = (null_count / total_records) * 100\n",
    "    print(f\"Column: {column}, percentage : {null_percentage:.2f}%\")"
   ]
  },
  {
   "attachments": {},
   "cell_type": "markdown",
   "metadata": {},
   "source": [
    "#### To make the API functions more efficient and faster I will create specific datasets for each query.\n"
   ]
  },
  {
   "attachments": {},
   "cell_type": "markdown",
   "metadata": {},
   "source": [
    "- def genero( Año: str ):\n"
   ]
  },
  {
   "cell_type": "code",
   "execution_count": 58,
   "metadata": {},
   "outputs": [],
   "source": [
    "df_genero = df_steam[['genres','year']]\n",
    "df_genero.to_csv('../Datasets/Data_Processed/def_genero.csv',index=False)\n"
   ]
  },
  {
   "attachments": {},
   "cell_type": "markdown",
   "metadata": {},
   "source": [
    "- def juegos( Año: str )\n"
   ]
  },
  {
   "cell_type": "code",
   "execution_count": 59,
   "metadata": {},
   "outputs": [],
   "source": [
    "df_juegos=df_steam[['app_name','year']]\n",
    "df_juegos.to_csv('../Datasets/Data_Processed/def_juegos.csv',index=False)"
   ]
  },
  {
   "attachments": {},
   "cell_type": "markdown",
   "metadata": {},
   "source": [
    "- def specs( Año: str ):\n"
   ]
  },
  {
   "cell_type": "code",
   "execution_count": 60,
   "metadata": {},
   "outputs": [],
   "source": [
    "df_specs=df_steam[['specs','year']]\n",
    "df_specs.to_csv('../Datasets/Data_Processed/def_specs.csv',index=False)"
   ]
  },
  {
   "attachments": {},
   "cell_type": "markdown",
   "metadata": {},
   "source": [
    "- def earlyacces( Año: str ):\n"
   ]
  },
  {
   "cell_type": "code",
   "execution_count": 61,
   "metadata": {},
   "outputs": [],
   "source": [
    "df_earlyacces=df_steam[['early_access','year']]\n",
    "df_earlyacces.to_csv('../Datasets/Data_Processed/def_eatlyacces.csv',index=False)"
   ]
  },
  {
   "attachments": {},
   "cell_type": "markdown",
   "metadata": {},
   "source": [
    "- def metascore( Año: str ):\n"
   ]
  },
  {
   "cell_type": "code",
   "execution_count": 62,
   "metadata": {},
   "outputs": [],
   "source": [
    "df_metascore.to_csv('../Datasets/Data_Processed/def_metascore.csv',index=False)"
   ]
  },
  {
   "attachments": {},
   "cell_type": "markdown",
   "metadata": {},
   "source": [
    "#### I export to the Eda.\n"
   ]
  },
  {
   "cell_type": "code",
   "execution_count": 63,
   "metadata": {},
   "outputs": [],
   "source": [
    "df_steam.to_csv('../Datasets/Data_Processed/Steam_For_Eda.csv',index=False)"
   ]
  },
  {
   "attachments": {},
   "cell_type": "markdown",
   "metadata": {},
   "source": [
    "---\n"
   ]
  }
 ],
 "metadata": {
  "kernelspec": {
   "display_name": "Python 3",
   "language": "python",
   "name": "python3"
  },
  "language_info": {
   "codemirror_mode": {
    "name": "ipython",
    "version": 3
   },
   "file_extension": ".py",
   "mimetype": "text/x-python",
   "name": "python",
   "nbconvert_exporter": "python",
   "pygments_lexer": "ipython3",
   "version": "3.11.3"
  },
  "orig_nbformat": 4
 },
 "nbformat": 4,
 "nbformat_minor": 2
}
