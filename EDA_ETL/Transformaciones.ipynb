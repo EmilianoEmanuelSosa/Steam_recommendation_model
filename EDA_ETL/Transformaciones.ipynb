{
 "cells": [
  {
   "attachments": {},
   "cell_type": "markdown",
   "metadata": {},
   "source": [
    "# Transformaciones\n",
    "\n",
    "---\n"
   ]
  },
  {
   "attachments": {},
   "cell_type": "markdown",
   "metadata": {},
   "source": [
    "##### 1. I import the libraries to use:\n"
   ]
  },
  {
   "cell_type": "code",
   "execution_count": 1,
   "metadata": {},
   "outputs": [],
   "source": [
    "import pandas as pd\n",
    "import numpy as np\n",
    "import json\n",
    "import ast\n",
    "import numpy"
   ]
  },
  {
   "cell_type": "code",
   "execution_count": 2,
   "metadata": {},
   "outputs": [],
   "source": [
    "def imputar_valores_objectos(data: pd.DataFrame):\n",
    "    objec = data.select_dtypes(include='object')\n",
    "    for columna in objec.columns:\n",
    "        if objec[columna].apply(lambda x: isinstance(x, str)).all():  # Verificar si todos los valores son de tipo 'str'\n",
    "            moda_columna = data[columna].mode().iloc[0]\n",
    "            data[columna].fillna(moda_columna, inplace=True)\n",
    "    return data\n",
    "\n",
    "def imputar_valores_num(data: pd.DataFrame):\n",
    "    objec = data.select_dtypes(include='number')\n",
    "    for columna in objec.columns:\n",
    "        media_columna = data[columna].mean()\n",
    "        data[columna].fillna(media_columna, inplace=True)\n",
    "    return data"
   ]
  },
  {
   "attachments": {},
   "cell_type": "markdown",
   "metadata": {},
   "source": [
    "#### I import the data sets\n"
   ]
  },
  {
   "cell_type": "code",
   "execution_count": 3,
   "metadata": {},
   "outputs": [],
   "source": [
    "# Json Proporcionado por nuestros contratadores\n",
    "\n",
    "# Ruta al archivo JSON\n",
    "json_file_path = '/home/mkm/programin/Steam_recommendation_model/Datasets/Data_Ingested/steam_games.json'\n",
    "\n",
    "rows=[]\n",
    "# Abro el archivo JSON y carga el contenido en una estructura de datos de Python\n",
    "with open(json_file_path, 'r', encoding='utf-8') as file:\n",
    "    for line in file.readlines():\n",
    "        rows.append(ast.literal_eval(line))\n",
    "df_steam= pd.DataFrame(rows)"
   ]
  },
  {
   "attachments": {},
   "cell_type": "markdown",
   "metadata": {},
   "source": [
    "#### I analyze the percentage of records with null data by column\n"
   ]
  },
  {
   "cell_type": "code",
   "execution_count": 4,
   "metadata": {},
   "outputs": [
    {
     "name": "stdout",
     "output_type": "stream",
     "text": [
      "Columna: publisher, Porcentaje de nulos: 25.06%\n",
      "Columna: genres, Porcentaje de nulos: 10.22%\n",
      "Columna: app_name, Porcentaje de nulos: 0.01%\n",
      "Columna: title, Porcentaje de nulos: 6.38%\n",
      "Columna: url, Porcentaje de nulos: 0.00%\n",
      "Columna: release_date, Porcentaje de nulos: 6.43%\n",
      "Columna: tags, Porcentaje de nulos: 0.51%\n",
      "Columna: discount_price, Porcentaje de nulos: 99.30%\n",
      "Columna: reviews_url, Porcentaje de nulos: 0.01%\n",
      "Columna: specs, Porcentaje de nulos: 2.08%\n",
      "Columna: price, Porcentaje de nulos: 4.29%\n",
      "Columna: early_access, Porcentaje de nulos: 0.00%\n",
      "Columna: id, Porcentaje de nulos: 0.01%\n",
      "Columna: developer, Porcentaje de nulos: 10.27%\n",
      "Columna: sentiment, Porcentaje de nulos: 22.35%\n",
      "Columna: metascore, Porcentaje de nulos: 91.67%\n"
     ]
    }
   ],
   "source": [
    "# Calculo el total de registros en el dataset respectivo\n",
    "total_records = len(df_steam)\n",
    "\n",
    "# Paso 2: Calcular el porcentaje de valores nulos en cada columna usando un bucle\n",
    "for column in df_steam.columns:\n",
    "    null_count = df_steam[column].isna().sum()\n",
    "    null_percentage = (null_count / total_records) * 100\n",
    "    print(f\"Columna: {column}, Porcentaje de nulos: {null_percentage:.2f}%\")"
   ]
  },
  {
   "attachments": {},
   "cell_type": "markdown",
   "metadata": {},
   "source": [
    "#### I will remove these columns:\n",
    "\n",
    "- title: It will be removed because app_name has fewer nulls and is exactly the same.\n",
    "-\n"
   ]
  },
  {
   "attachments": {},
   "cell_type": "markdown",
   "metadata": {},
   "source": [
    "#### columns with a null percentage of 75 or greater will be removed\n"
   ]
  },
  {
   "cell_type": "code",
   "execution_count": 5,
   "metadata": {},
   "outputs": [],
   "source": [
    "df_steam.drop(columns=['metascore', 'discount_price'], inplace=True)"
   ]
  },
  {
   "cell_type": "code",
   "execution_count": 7,
   "metadata": {},
   "outputs": [
    {
     "data": {
      "text/html": [
       "<div>\n",
       "<style scoped>\n",
       "    .dataframe tbody tr th:only-of-type {\n",
       "        vertical-align: middle;\n",
       "    }\n",
       "\n",
       "    .dataframe tbody tr th {\n",
       "        vertical-align: top;\n",
       "    }\n",
       "\n",
       "    .dataframe thead th {\n",
       "        text-align: right;\n",
       "    }\n",
       "</style>\n",
       "<table border=\"1\" class=\"dataframe\">\n",
       "  <thead>\n",
       "    <tr style=\"text-align: right;\">\n",
       "      <th></th>\n",
       "      <th>publisher</th>\n",
       "      <th>genres</th>\n",
       "      <th>app_name</th>\n",
       "      <th>title</th>\n",
       "      <th>url</th>\n",
       "      <th>release_date</th>\n",
       "      <th>tags</th>\n",
       "      <th>reviews_url</th>\n",
       "      <th>specs</th>\n",
       "      <th>price</th>\n",
       "      <th>early_access</th>\n",
       "      <th>id</th>\n",
       "      <th>developer</th>\n",
       "      <th>sentiment</th>\n",
       "    </tr>\n",
       "  </thead>\n",
       "  <tbody>\n",
       "    <tr>\n",
       "      <th>count</th>\n",
       "      <td>24083</td>\n",
       "      <td>28852</td>\n",
       "      <td>32133</td>\n",
       "      <td>30085</td>\n",
       "      <td>32135</td>\n",
       "      <td>30068</td>\n",
       "      <td>31972</td>\n",
       "      <td>32133</td>\n",
       "      <td>31465</td>\n",
       "      <td>30758.00</td>\n",
       "      <td>32135</td>\n",
       "      <td>32133</td>\n",
       "      <td>28836</td>\n",
       "      <td>24953</td>\n",
       "    </tr>\n",
       "    <tr>\n",
       "      <th>unique</th>\n",
       "      <td>8239</td>\n",
       "      <td>883</td>\n",
       "      <td>32094</td>\n",
       "      <td>30054</td>\n",
       "      <td>32135</td>\n",
       "      <td>3582</td>\n",
       "      <td>15395</td>\n",
       "      <td>32132</td>\n",
       "      <td>4649</td>\n",
       "      <td>162.00</td>\n",
       "      <td>2</td>\n",
       "      <td>32132</td>\n",
       "      <td>10992</td>\n",
       "      <td>18</td>\n",
       "    </tr>\n",
       "    <tr>\n",
       "      <th>top</th>\n",
       "      <td>Ubisoft</td>\n",
       "      <td>[Action]</td>\n",
       "      <td>Soundtrack</td>\n",
       "      <td>Soundtrack</td>\n",
       "      <td>http://store.steampowered.com/app/761140/Lost_...</td>\n",
       "      <td>2012-10-16</td>\n",
       "      <td>[Casual, Simulation]</td>\n",
       "      <td>http://steamcommunity.com/app/612880/reviews/?...</td>\n",
       "      <td>[Single-player]</td>\n",
       "      <td>4.99</td>\n",
       "      <td>False</td>\n",
       "      <td>612880</td>\n",
       "      <td>Ubisoft - San Francisco</td>\n",
       "      <td>Mixed</td>\n",
       "    </tr>\n",
       "    <tr>\n",
       "      <th>freq</th>\n",
       "      <td>385</td>\n",
       "      <td>1880</td>\n",
       "      <td>3</td>\n",
       "      <td>3</td>\n",
       "      <td>1</td>\n",
       "      <td>100</td>\n",
       "      <td>1292</td>\n",
       "      <td>2</td>\n",
       "      <td>2794</td>\n",
       "      <td>4278.00</td>\n",
       "      <td>30188</td>\n",
       "      <td>2</td>\n",
       "      <td>1259</td>\n",
       "      <td>4103</td>\n",
       "    </tr>\n",
       "  </tbody>\n",
       "</table>\n",
       "</div>"
      ],
      "text/plain": [
       "       publisher    genres    app_name       title  \\\n",
       "count      24083     28852       32133       30085   \n",
       "unique      8239       883       32094       30054   \n",
       "top      Ubisoft  [Action]  Soundtrack  Soundtrack   \n",
       "freq         385      1880           3           3   \n",
       "\n",
       "                                                      url release_date  \\\n",
       "count                                               32135        30068   \n",
       "unique                                              32135         3582   \n",
       "top     http://store.steampowered.com/app/761140/Lost_...   2012-10-16   \n",
       "freq                                                    1          100   \n",
       "\n",
       "                        tags  \\\n",
       "count                  31972   \n",
       "unique                 15395   \n",
       "top     [Casual, Simulation]   \n",
       "freq                    1292   \n",
       "\n",
       "                                              reviews_url            specs  \\\n",
       "count                                               32133            31465   \n",
       "unique                                              32132             4649   \n",
       "top     http://steamcommunity.com/app/612880/reviews/?...  [Single-player]   \n",
       "freq                                                    2             2794   \n",
       "\n",
       "           price early_access      id                developer sentiment  \n",
       "count   30758.00        32135   32133                    28836     24953  \n",
       "unique    162.00            2   32132                    10992        18  \n",
       "top         4.99        False  612880  Ubisoft - San Francisco     Mixed  \n",
       "freq     4278.00        30188       2                     1259      4103  "
      ]
     },
     "execution_count": 7,
     "metadata": {},
     "output_type": "execute_result"
    }
   ],
   "source": [
    "df_steam.describe()"
   ]
  }
 ],
 "metadata": {
  "kernelspec": {
   "display_name": "Python 3",
   "language": "python",
   "name": "python3"
  },
  "language_info": {
   "codemirror_mode": {
    "name": "ipython",
    "version": 3
   },
   "file_extension": ".py",
   "mimetype": "text/x-python",
   "name": "python",
   "nbconvert_exporter": "python",
   "pygments_lexer": "ipython3",
   "version": "3.11.3"
  },
  "orig_nbformat": 4
 },
 "nbformat": 4,
 "nbformat_minor": 2
}
